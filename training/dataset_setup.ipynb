{
 "cells": [
  {
   "cell_type": "code",
   "execution_count": null,
   "id": "1dd760a1-bded-4678-82c1-160439cb23b4",
   "metadata": {},
   "outputs": [],
   "source": [
    "# Install packages\n",
    "!pip install roboflow\n",
    "!pip install torch torchvision\n",
    "!pip install opencv-python\n",
    "!pip install matplotlib"
   ]
  },
  {
   "cell_type": "code",
   "execution_count": null,
   "id": "b74a00ae-594d-4a48-88a9-5b933ebc76c2",
   "metadata": {},
   "outputs": [],
   "source": [
    "# Download dataset\n",
    "from roboflow import Roboflow\n",
    "rf = Roboflow(api_key=\"U0RpVkRKwFrFYW5RlBkn\")\n",
    "project = rf.workspace(\"owais-ahmed-xq0js\").project(\"road-obstacles-tsl0a\")\n",
    "version = project.version(1)\n",
    "dataset = version.download(\"yolov7\")\n",
    "                "
   ]
  },
  {
   "cell_type": "code",
   "execution_count": null,
   "id": "ef571fa7-1732-4a94-87bf-26933f7a4c1a",
   "metadata": {},
   "outputs": [],
   "source": []
  }
 ],
 "metadata": {
  "kernelspec": {
   "display_name": "Python 3 (ipykernel)",
   "language": "python",
   "name": "python3"
  },
  "language_info": {
   "codemirror_mode": {
    "name": "ipython",
    "version": 3
   },
   "file_extension": ".py",
   "mimetype": "text/x-python",
   "name": "python",
   "nbconvert_exporter": "python",
   "pygments_lexer": "ipython3",
   "version": "3.11.7"
  }
 },
 "nbformat": 4,
 "nbformat_minor": 5
}
